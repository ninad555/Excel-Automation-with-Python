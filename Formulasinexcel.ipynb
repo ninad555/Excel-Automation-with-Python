{
 "cells": [
  {
   "cell_type": "code",
   "execution_count": 80,
   "id": "34637d74",
   "metadata": {},
   "outputs": [],
   "source": [
    "import pandas as pd\n",
    "import numpy as np\n",
    "import xlsxwriter\n",
    "\n",
    "import openpyxl\n",
    "from openpyxl import load_workbook"
   ]
  },
  {
   "cell_type": "code",
   "execution_count": 87,
   "id": "0f803d2b",
   "metadata": {},
   "outputs": [],
   "source": [
    "path = \"dummydata-2021.xlsx\"\n",
    "wb = load_workbook(path)\n",
    "\n",
    "ws = wb['YT']"
   ]
  },
  {
   "cell_type": "code",
   "execution_count": 88,
   "id": "57e61a25",
   "metadata": {},
   "outputs": [
    {
     "data": {
      "text/plain": [
       "3390"
      ]
     },
     "execution_count": 88,
     "metadata": {},
     "output_type": "execute_result"
    }
   ],
   "source": [
    "ws.max_row"
   ]
  },
  {
   "cell_type": "code",
   "execution_count": 13,
   "id": "7d362c81",
   "metadata": {},
   "outputs": [
    {
     "data": {
      "text/plain": [
       "20"
      ]
     },
     "execution_count": 13,
     "metadata": {},
     "output_type": "execute_result"
    }
   ],
   "source": [
    "ws.max_column"
   ]
  },
  {
   "cell_type": "code",
   "execution_count": 14,
   "id": "0bc5caab",
   "metadata": {},
   "outputs": [
    {
     "name": "stdout",
     "output_type": "stream",
     "text": [
      "T3390\n"
     ]
    }
   ],
   "source": [
    "print(ws.cell(ws.max_row,ws.max_column).column_letter + str(ws.cell(ws.max_row,ws.max_column).row))"
   ]
  },
  {
   "cell_type": "code",
   "execution_count": 43,
   "id": "cdb477fb",
   "metadata": {},
   "outputs": [
    {
     "name": "stdout",
     "output_type": "stream",
     "text": [
      "=SUM(I2:M2) T\n",
      "=SUM(I3:M3) T\n",
      "=SUM(I4:M4) T\n",
      "=SUM(I5:M5) T\n",
      "=SUM(I6:M6) T\n",
      "=SUM(I7:M7) T\n",
      "=SUM(I8:M8) T\n",
      "=SUM(I9:M9) T\n",
      "=SUM(I10:M10) T\n",
      "=SUM(I11:M11) T\n",
      "=SUM(I12:M12) T\n",
      "=SUM(I13:M13) T\n",
      "=SUM(I14:M14) T\n",
      "=SUM(I15:M15) T\n",
      "=SUM(I16:M16) T\n",
      "=SUM(I17:M17) T\n",
      "=SUM(I18:M18) T\n",
      "=SUM(I19:M19) T\n",
      "=SUM(I20:M20) T\n",
      "=SUM(I21:M21) T\n",
      "=SUM(I22:M22) T\n",
      "=SUM(I23:M23) T\n",
      "=SUM(I24:M24) T\n",
      "=SUM(I25:M25) T\n",
      "=SUM(I26:M26) T\n",
      "=SUM(I27:M27) T\n"
     ]
    }
   ],
   "source": [
    "for row in ws['A1':'T3390']:\n",
    "#     data_cols = []\n",
    "#     #print(row)\n",
    "    for cell in row:\n",
    "        if cell.data_type == \"f\":\n",
    "            print(cell.value ,cell.column_letter )\n",
    "            "
   ]
  },
  {
   "cell_type": "code",
   "execution_count": 53,
   "id": "3274d6c0",
   "metadata": {},
   "outputs": [],
   "source": [
    "from openpyxl.formula.translate import Translator\n",
    "ws['T33'] = \"=SUM(I33:M33)\""
   ]
  },
  {
   "cell_type": "code",
   "execution_count": 30,
   "id": "bc477baf",
   "metadata": {},
   "outputs": [],
   "source": [
    " from openpyxl.formula.translate import Translator"
   ]
  },
  {
   "cell_type": "code",
   "execution_count": 76,
   "id": "77d6192d",
   "metadata": {},
   "outputs": [
    {
     "name": "stdout",
     "output_type": "stream",
     "text": [
      "T2 : =SUM(I2:M2)\n",
      "T3 : =SUM(I3:M3)\n",
      "T4 : =SUM(I4:M4)\n",
      "T5 : =SUM(I5:M5)\n",
      "T6 : =SUM(I6:M6)\n",
      "T7 : =SUM(I7:M7)\n",
      "T8 : =SUM(I8:M8)\n",
      "T9 : =SUM(I9:M9)\n",
      "T10 : =SUM(I10:M10)\n",
      "T11 : =SUM(I11:M11)\n",
      "T12 : =SUM(I12:M12)\n",
      "T13 : =SUM(I13:M13)\n",
      "T14 : =SUM(I14:M14)\n",
      "T15 : =SUM(I15:M15)\n",
      "T16 : =SUM(I16:M16)\n",
      "T17 : =SUM(I17:M17)\n",
      "T18 : =SUM(I18:M18)\n",
      "T19 : =SUM(I19:M19)\n",
      "T20 : =SUM(I20:M20)\n",
      "T21 : =SUM(I21:M21)\n",
      "T22 : =SUM(I22:M22)\n",
      "T23 : =SUM(I23:M23)\n",
      "T24 : =SUM(I24:M24)\n",
      "T25 : =SUM(I25:M25)\n",
      "T26 : =SUM(I26:M26)\n",
      "T27 : =SUM(I27:M27)\n",
      "T33 : =SUM(I33:M33)\n"
     ]
    }
   ],
   "source": [
    "for row in ws['T1':'T3390']:\n",
    "     for cell in row:\n",
    "            if cell.data_type == \"f\": \n",
    "                print(\"{}{} : {}\".format(cell.column_letter,cell.row, cell.value))"
   ]
  },
  {
   "cell_type": "code",
   "execution_count": 98,
   "id": "d6019793",
   "metadata": {},
   "outputs": [],
   "source": [
    "ws[\"T34\"] = \"=SUM(I34:M34)\"\n",
    "wb.save(\"dummydata-2021.xlsx\")"
   ]
  },
  {
   "cell_type": "code",
   "execution_count": 105,
   "id": "2deecd87",
   "metadata": {},
   "outputs": [],
   "source": [
    "for row in ws['T1':'T3390']:\n",
    "     for cell in row:\n",
    "                ws[\"{}{}\".format(cell.column_letter,cell.row)] = \"=SUM(I{}:M{})\".format(cell.row, cell.row)\n",
    "\n",
    "wb.save(\"dummydata-2021.xlsx\")"
   ]
  },
  {
   "cell_type": "code",
   "execution_count": 109,
   "id": "d16b9e75",
   "metadata": {},
   "outputs": [
    {
     "name": "stdout",
     "output_type": "stream",
     "text": [
      "['T', 'U', 'V']\n"
     ]
    }
   ],
   "source": [
    "ff = [\"T\", \"T\",\"U\",\"V\"]\n",
    "unique_list = []\n",
    "for x in ff:\n",
    "    if x not in unique_list:\n",
    "        unique_list.append(x)\n",
    "print(unique_list)"
   ]
  },
  {
   "cell_type": "code",
   "execution_count": null,
   "id": "6b6e2412",
   "metadata": {},
   "outputs": [],
   "source": []
  }
 ],
 "metadata": {
  "kernelspec": {
   "display_name": "Python 3",
   "language": "python",
   "name": "python3"
  },
  "language_info": {
   "codemirror_mode": {
    "name": "ipython",
    "version": 3
   },
   "file_extension": ".py",
   "mimetype": "text/x-python",
   "name": "python",
   "nbconvert_exporter": "python",
   "pygments_lexer": "ipython3",
   "version": "3.8.8"
  }
 },
 "nbformat": 4,
 "nbformat_minor": 5
}
